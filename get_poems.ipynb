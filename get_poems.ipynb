{
 "cells": [
  {
   "cell_type": "markdown",
   "metadata": {},
   "source": [
    "# 预处理\n",
    "读入诗歌表格，处理成诗人倒排索引和诗歌列表"
   ]
  },
  {
   "cell_type": "code",
   "execution_count": 2,
   "metadata": {},
   "outputs": [
    {
     "data": {
      "text/html": [
       "<div>\n",
       "<style scoped>\n",
       "    .dataframe tbody tr th:only-of-type {\n",
       "        vertical-align: middle;\n",
       "    }\n",
       "\n",
       "    .dataframe tbody tr th {\n",
       "        vertical-align: top;\n",
       "    }\n",
       "\n",
       "    .dataframe thead th {\n",
       "        text-align: right;\n",
       "    }\n",
       "</style>\n",
       "<table border=\"1\" class=\"dataframe\">\n",
       "  <thead>\n",
       "    <tr style=\"text-align: right;\">\n",
       "      <th></th>\n",
       "      <th>ID</th>\n",
       "      <th>Poem_id</th>\n",
       "      <th>line_number</th>\n",
       "      <th>content</th>\n",
       "      <th>simple</th>\n",
       "    </tr>\n",
       "  </thead>\n",
       "  <tbody>\n",
       "    <tr>\n",
       "      <td>0</td>\n",
       "      <td>1</td>\n",
       "      <td>4371</td>\n",
       "      <td>-100</td>\n",
       "      <td>##餞唐永昌( 一作餞唐郎中洛陽令)</td>\n",
       "      <td>##饯唐永昌( 一作饯唐郎中洛阳令)</td>\n",
       "    </tr>\n",
       "    <tr>\n",
       "      <td>1</td>\n",
       "      <td>2</td>\n",
       "      <td>4371</td>\n",
       "      <td>-1</td>\n",
       "      <td>$$沈佺期</td>\n",
       "      <td>$$沈佺期</td>\n",
       "    </tr>\n",
       "    <tr>\n",
       "      <td>2</td>\n",
       "      <td>3</td>\n",
       "      <td>4371</td>\n",
       "      <td>1</td>\n",
       "      <td>洛陽舊有( 一作出) 神明宰</td>\n",
       "      <td>洛阳旧有( 一作出) 神明宰</td>\n",
       "    </tr>\n",
       "    <tr>\n",
       "      <td>3</td>\n",
       "      <td>4</td>\n",
       "      <td>4371</td>\n",
       "      <td>2</td>\n",
       "      <td>輦轂由來天地中</td>\n",
       "      <td>辇毂由来天地中</td>\n",
       "    </tr>\n",
       "    <tr>\n",
       "      <td>4</td>\n",
       "      <td>5</td>\n",
       "      <td>4371</td>\n",
       "      <td>3</td>\n",
       "      <td>餘邑政成何足貴</td>\n",
       "      <td>馀邑政成何足贵</td>\n",
       "    </tr>\n",
       "    <tr>\n",
       "      <td>...</td>\n",
       "      <td>...</td>\n",
       "      <td>...</td>\n",
       "      <td>...</td>\n",
       "      <td>...</td>\n",
       "      <td>...</td>\n",
       "    </tr>\n",
       "    <tr>\n",
       "      <td>46272</td>\n",
       "      <td>46273</td>\n",
       "      <td>39205</td>\n",
       "      <td>-1</td>\n",
       "      <td>$$李舜弦</td>\n",
       "      <td>$$李舜弦</td>\n",
       "    </tr>\n",
       "    <tr>\n",
       "      <td>46273</td>\n",
       "      <td>46274</td>\n",
       "      <td>39205</td>\n",
       "      <td>1</td>\n",
       "      <td>飲筵中散酒微醒</td>\n",
       "      <td>饮筵中散酒微醒</td>\n",
       "    </tr>\n",
       "    <tr>\n",
       "      <td>46274</td>\n",
       "      <td>46275</td>\n",
       "      <td>39205</td>\n",
       "      <td>2</td>\n",
       "      <td>濛濛雨草瑤階溼</td>\n",
       "      <td>蒙蒙雨草瑶阶溼</td>\n",
       "    </tr>\n",
       "    <tr>\n",
       "      <td>46275</td>\n",
       "      <td>46276</td>\n",
       "      <td>39205</td>\n",
       "      <td>3</td>\n",
       "      <td>鐘曉愁吟獨倚屏</td>\n",
       "      <td>钟晓愁吟独倚屏</td>\n",
       "    </tr>\n",
       "    <tr>\n",
       "      <td>46276</td>\n",
       "      <td>46277</td>\n",
       "      <td>39205</td>\n",
       "      <td>4</td>\n",
       "      <td>盡日池邊釣錦鱗</td>\n",
       "      <td>尽日池边钓锦鳞</td>\n",
       "    </tr>\n",
       "  </tbody>\n",
       "</table>\n",
       "<p>46277 rows × 5 columns</p>\n",
       "</div>"
      ],
      "text/plain": [
       "          ID  Poem_id  line_number             content              simple\n",
       "0          1     4371         -100  ##餞唐永昌( 一作餞唐郎中洛陽令)  ##饯唐永昌( 一作饯唐郎中洛阳令)\n",
       "1          2     4371           -1               $$沈佺期               $$沈佺期\n",
       "2          3     4371            1      洛陽舊有( 一作出) 神明宰      洛阳旧有( 一作出) 神明宰\n",
       "3          4     4371            2             輦轂由來天地中             辇毂由来天地中\n",
       "4          5     4371            3             餘邑政成何足貴             馀邑政成何足贵\n",
       "...      ...      ...          ...                 ...                 ...\n",
       "46272  46273    39205           -1               $$李舜弦               $$李舜弦\n",
       "46273  46274    39205            1             飲筵中散酒微醒             饮筵中散酒微醒\n",
       "46274  46275    39205            2             濛濛雨草瑤階溼             蒙蒙雨草瑶阶溼\n",
       "46275  46276    39205            3             鐘曉愁吟獨倚屏             钟晓愁吟独倚屏\n",
       "46276  46277    39205            4             盡日池邊釣錦鱗             尽日池边钓锦鳞\n",
       "\n",
       "[46277 rows x 5 columns]"
      ]
     },
     "execution_count": 2,
     "metadata": {},
     "output_type": "execute_result"
    }
   ],
   "source": [
    "import pandas as pd\n",
    "poem_df = pd.read_excel('poem_v2.xlsx')\n",
    "poem_df"
   ]
  },
  {
   "cell_type": "code",
   "execution_count": 20,
   "metadata": {},
   "outputs": [],
   "source": [
    "poem_list = []\n",
    "poet2poem = {}\n",
    "\n",
    "def process_poem(df):\n",
    "    poem = ''\n",
    "    for line in df['simple']:\n",
    "        if(line[:2] == '##' or line[:2] == '$$'):\n",
    "            line = line[2:]\n",
    "        poem = poem + line + '\\n'\n",
    "    poem_list.append(poem)\n",
    "    \n",
    "cnt = 0\n",
    "def process_poet(df):\n",
    "    global cnt\n",
    "    for idx, row in df.iterrows():\n",
    "        if(row['line_number'] == -1):\n",
    "            poet = row['simple'][2:]\n",
    "            if poet in poet2poem:\n",
    "                poet2poem[poet].append(cnt)\n",
    "            else:\n",
    "                poet2poem[poet] = [cnt]\n",
    "            break\n",
    "    cnt += 1"
   ]
  },
  {
   "cell_type": "code",
   "execution_count": 21,
   "metadata": {},
   "outputs": [
    {
     "data": {
      "text/html": [
       "<div>\n",
       "<style scoped>\n",
       "    .dataframe tbody tr th:only-of-type {\n",
       "        vertical-align: middle;\n",
       "    }\n",
       "\n",
       "    .dataframe tbody tr th {\n",
       "        vertical-align: top;\n",
       "    }\n",
       "\n",
       "    .dataframe thead th {\n",
       "        text-align: right;\n",
       "    }\n",
       "</style>\n",
       "<table border=\"1\" class=\"dataframe\">\n",
       "  <thead>\n",
       "    <tr style=\"text-align: right;\">\n",
       "      <th></th>\n",
       "    </tr>\n",
       "  </thead>\n",
       "  <tbody>\n",
       "  </tbody>\n",
       "</table>\n",
       "</div>"
      ],
      "text/plain": [
       "Empty DataFrame\n",
       "Columns: []\n",
       "Index: []"
      ]
     },
     "execution_count": 21,
     "metadata": {},
     "output_type": "execute_result"
    }
   ],
   "source": [
    "poem_df.groupby('Poem_id').apply(process_poem)"
   ]
  },
  {
   "cell_type": "code",
   "execution_count": 22,
   "metadata": {},
   "outputs": [
    {
     "data": {
      "text/html": [
       "<div>\n",
       "<style scoped>\n",
       "    .dataframe tbody tr th:only-of-type {\n",
       "        vertical-align: middle;\n",
       "    }\n",
       "\n",
       "    .dataframe tbody tr th {\n",
       "        vertical-align: top;\n",
       "    }\n",
       "\n",
       "    .dataframe thead th {\n",
       "        text-align: right;\n",
       "    }\n",
       "</style>\n",
       "<table border=\"1\" class=\"dataframe\">\n",
       "  <thead>\n",
       "    <tr style=\"text-align: right;\">\n",
       "      <th></th>\n",
       "    </tr>\n",
       "  </thead>\n",
       "  <tbody>\n",
       "  </tbody>\n",
       "</table>\n",
       "</div>"
      ],
      "text/plain": [
       "Empty DataFrame\n",
       "Columns: []\n",
       "Index: []"
      ]
     },
     "execution_count": 22,
     "metadata": {},
     "output_type": "execute_result"
    }
   ],
   "source": [
    "poem_df.groupby('Poem_id').apply(process_poet)"
   ]
  },
  {
   "cell_type": "code",
   "execution_count": 23,
   "metadata": {},
   "outputs": [
    {
     "data": {
      "text/plain": [
       "'登岘山亭寄晋陵张少府\\n李白\\n岘首风湍急\\n云帆若鸟飞\\n凭轩试一问\\n张翰欲来归\\n'"
      ]
     },
     "execution_count": 23,
     "metadata": {},
     "output_type": "execute_result"
    }
   ],
   "source": [
    "lb = poet2poem['李白']\n",
    "poem_list[lb[0]]"
   ]
  },
  {
   "cell_type": "code",
   "execution_count": 24,
   "metadata": {},
   "outputs": [],
   "source": [
    "# 保存\n",
    "import pickle\n",
    "with open('./var/poem_list', 'wb') as f:\n",
    "    pickle.dump(poem_list, f)\n",
    "with open('./var/poet2poem', 'wb') as f:\n",
    "    pickle.dump(poet2poem, f)"
   ]
  },
  {
   "cell_type": "code",
   "execution_count": null,
   "metadata": {},
   "outputs": [],
   "source": []
  }
 ],
 "metadata": {
  "kernelspec": {
   "display_name": "Python 3",
   "language": "python",
   "name": "python3"
  },
  "language_info": {
   "codemirror_mode": {
    "name": "ipython",
    "version": 3
   },
   "file_extension": ".py",
   "mimetype": "text/x-python",
   "name": "python",
   "nbconvert_exporter": "python",
   "pygments_lexer": "ipython3",
   "version": "3.7.4"
  }
 },
 "nbformat": 4,
 "nbformat_minor": 2
}
