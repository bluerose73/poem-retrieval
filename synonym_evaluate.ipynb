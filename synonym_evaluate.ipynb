{
 "cells": [
  {
   "cell_type": "markdown",
   "metadata": {},
   "source": [
    "# 通过文本相似度评价近义词挖掘\n",
    "近义词经常有相同的文字，例如“明月”和“山月”，“春”和“春风”。虽然不是所有近义词都有相同的文字，因此直接使用文本相似度来挖掘近义词是不合适的，但是文本相似度对一组近义词关系的好坏有一定的表达能力，可以评价近义词挖掘算法的好坏。如果挖掘出的近义词彼此文本相似度高，认为结果是好的。\n",
    "\n",
    "这里，把两个词的文本相似度定义为，在两个词都出现的字的个数 * 200 / 两个词的长度之和。\n",
    "\n",
    "一个词评分为，它和它的近义词的文本相似度求和，再除以近义词数。\n",
    "\n",
    "挖掘结果的评分为每个词的评分求和。"
   ]
  },
  {
   "cell_type": "code",
   "execution_count": 1,
   "metadata": {},
   "outputs": [],
   "source": [
    "import numpy as np\n",
    "import pickle\n",
    "import pandas as pd\n",
    "with open('./var/word2id', 'rb') as f:\n",
    "    word2id = pickle.load(f)\n",
    "with open('./var/id2word', 'rb') as f:\n",
    "    id2word = pickle.load(f)\n",
    "with open('./var/TF', 'rb') as f:\n",
    "    TF = pickle.load(f)\n",
    "with open('./var/IDF', 'rb') as f:\n",
    "    IDF = pickle.load(f)\n",
    "new_data = pd.read_excel('./var/new_data.xlsx')\n",
    "with open('./var/big2id', 'rb') as f:\n",
    "    big2id = pickle.load(f)\n",
    "with open('./var/id2big', 'rb') as f:\n",
    "    id2big = pickle.load(f)\n",
    "big_num = len(id2big)"
   ]
  },
  {
   "cell_type": "code",
   "execution_count": 15,
   "metadata": {},
   "outputs": [
    {
     "data": {
      "text/plain": [
       "2571.111111111109"
      ]
     },
     "execution_count": 15,
     "metadata": {},
     "output_type": "execute_result"
    }
   ],
   "source": [
    "def evaluate_synonym(pathname, syn_num):\n",
    "    '''\n",
    "    评价挖掘结果\n",
    "    '''\n",
    "    with open(pathname, 'rb') as f:\n",
    "        synonym_list = pickle.load(f)\n",
    "    # 加载文件\n",
    "    score = 0\n",
    "    for idx, synonyms in enumerate(synonym_list):\n",
    "        synonyms = synonyms[:syn_num]\n",
    "        word = id2word[idx]\n",
    "        cur_score = 0\n",
    "        for syn_id in synonyms:\n",
    "            syn = id2word[syn_id]\n",
    "            cnt = 0\n",
    "            for c in word:\n",
    "                if c in syn:\n",
    "                    cnt += 1\n",
    "            cur_score += (cnt * 200) / (len(word) + len(syn))\n",
    "        score += cur_score / len(synonyms)\n",
    "    return score\n",
    "\n",
    "evaluate_synonym('./var/synonym_list', 3)"
   ]
  },
  {
   "cell_type": "markdown",
   "metadata": {},
   "source": [
    "## 1. 研究在同首诗和同句的相对权重对近义词表现的影响\n",
    "同句的额外权重从 0 到 22 分别尝试，没有找到什么规律。"
   ]
  },
  {
   "cell_type": "code",
   "execution_count": 3,
   "metadata": {},
   "outputs": [],
   "source": [
    "def synonym_digging(pathname, factor):\n",
    "    '''\n",
    "    近义词挖掘\n",
    "    '''\n",
    "    word_num = len(word2id)\n",
    "        \n",
    "    context = np.zeros((big_num, word_num))\n",
    "\n",
    "    def cnt_context(poem):\n",
    "        for place, row in poem.iterrows():\n",
    "            word = row['word']\n",
    "            line_num = row['line_number']\n",
    "            id = word2id[word]\n",
    "            if id in id2big:\n",
    "                bigid = id2big[id]\n",
    "                for con_place, con_row in poem.iterrows():\n",
    "                    con_word = con_row['word']\n",
    "                    con_id = word2id[con_word]\n",
    "                    con_line_num = con_row['line_number']\n",
    "                    if id != con_id:\n",
    "                        context[bigid][con_id] += IDF[con_id]\n",
    "                        if line_num == con_line_num:\n",
    "                            context[bigid][con_id] += IDF[con_id] * factor\n",
    "    \n",
    "    new_data.groupby('Poem_id').apply(cnt_context)\n",
    "\n",
    "    for line in context:\n",
    "        line /= np.linalg.norm(line)\n",
    "\n",
    "    from sklearn.decomposition import PCA\n",
    "    dec_to = 32\n",
    "    dcontext = PCA(n_components = dec_to).fit_transform(context)\n",
    "        \n",
    "    synonym_list = []\n",
    "    for i in range(big_num):\n",
    "        cur_list = []\n",
    "        moon_vec = dcontext[i]\n",
    "        similarity = np.zeros(big_num)\n",
    "        for i, v in enumerate(dcontext):\n",
    "            similarity[i] = np.linalg.norm(moon_vec - v)\n",
    "\n",
    "        st = np.argsort(similarity)\n",
    "        for i in range(1,30):\n",
    "            cur_list.append(st[i])\n",
    "        synonym_list.append(cur_list)\n",
    "        \n",
    "    with open(pathname, 'wb') as f:\n",
    "        pickle.dump(synonym_list, f)"
   ]
  },
  {
   "cell_type": "code",
   "execution_count": 4,
   "metadata": {},
   "outputs": [
    {
     "name": "stdout",
     "output_type": "stream",
     "text": [
      "0\n",
      "2\n",
      "4\n",
      "6\n",
      "8\n",
      "10\n",
      "12\n",
      "14\n",
      "16\n",
      "18\n"
     ]
    }
   ],
   "source": [
    "factor_list = []\n",
    "for factor in range(0, 20, 2):\n",
    "    print(factor)\n",
    "    pathname = './result/result_' + str(factor)\n",
    "    synonym_digging(pathname, factor)\n",
    "    factor_list.append(factor)"
   ]
  },
  {
   "cell_type": "code",
   "execution_count": 28,
   "metadata": {},
   "outputs": [
    {
     "name": "stdout",
     "output_type": "stream",
     "text": [
      "20\n",
      "22\n"
     ]
    }
   ],
   "source": [
    "for factor in range(20, 24, 2):\n",
    "    print(factor)\n",
    "    pathname = './result/result_' + str(factor)\n",
    "    synonym_digging(pathname, factor)\n",
    "    factor_list.append(factor)"
   ]
  },
  {
   "cell_type": "code",
   "execution_count": 69,
   "metadata": {},
   "outputs": [
    {
     "name": "stdout",
     "output_type": "stream",
     "text": [
      "0\n",
      "2\n",
      "4\n",
      "6\n",
      "8\n",
      "10\n",
      "12\n",
      "14\n",
      "16\n",
      "18\n",
      "20\n",
      "22\n"
     ]
    }
   ],
   "source": [
    "score = []\n",
    "for factor in range(0, 24, 2):\n",
    "    print(factor)\n",
    "    pathname = './result/result_' + str(factor)\n",
    "    score.append(evaluate_synonym(pathname, 10))"
   ]
  },
  {
   "cell_type": "code",
   "execution_count": 70,
   "metadata": {},
   "outputs": [
    {
     "data": {
      "text/plain": [
       "[0, 2, 4, 6, 8, 10, 12, 14, 16, 18, 20, 22]"
      ]
     },
     "execution_count": 70,
     "metadata": {},
     "output_type": "execute_result"
    }
   ],
   "source": [
    "factor_list"
   ]
  },
  {
   "cell_type": "code",
   "execution_count": 71,
   "metadata": {},
   "outputs": [
    {
     "data": {
      "text/plain": [
       "[<matplotlib.lines.Line2D at 0x188d1f76b48>]"
      ]
     },
     "execution_count": 71,
     "metadata": {},
     "output_type": "execute_result"
    },
    {
     "data": {
      "image/png": "[encoded data removed]",
      "text/plain": [
       "<Figure size 432x288 with 1 Axes>"
      ]
     },
     "metadata": {
      "needs_background": "light"
     },
     "output_type": "display_data"
    }
   ],
   "source": [
    "import matplotlib.pyplot as plt\n",
    "plt.plot(factor_list, score)"
   ]
  },
  {
   "cell_type": "code",
   "execution_count": 50,
   "metadata": {},
   "outputs": [
    {
     "data": {
      "text/plain": [
       "[2505.9770114942303,\n",
       " 2542.5287356321646,\n",
       " 2419.1954022988325,\n",
       " 2468.1609195402107,\n",
       " 2505.747126436761,\n",
       " 2441.379310344809,\n",
       " 2508.8505747126214,\n",
       " 2496.3218390804423,\n",
       " 2484.3678160919326,\n",
       " 2508.850574712621,\n",
       " 2534.4827586206693,\n",
       " 2467.816091954003]"
      ]
     },
     "execution_count": 50,
     "metadata": {},
     "output_type": "execute_result"
    }
   ],
   "source": [
    "score"
   ]
  },
  {
   "cell_type": "code",
   "execution_count": 84,
   "metadata": {},
   "outputs": [
    {
     "name": "stdout",
     "output_type": "stream",
     "text": [
      "水精\n",
      "斜月\n",
      "千门\n"
     ]
    }
   ],
   "source": [
    "# Test\n",
    "with open('./var/synonym_list', 'rb') as f:\n",
    "    synonym_list = pickle.load(f)\n",
    "for i in synonym_list[id2big[word2id['']]]:\n",
    "    print(id2word[big2id[i]])"
   ]
  },
  {
   "cell_type": "markdown",
   "metadata": {},
   "source": [
    "## 2.研究降至多少维效果最好\n",
    "尝试了 4 维到 2048 维，结果如曲线，128 维左右效果最好"
   ]
  },
  {
   "cell_type": "code",
   "execution_count": 85,
   "metadata": {},
   "outputs": [],
   "source": [
    "def synonym_digging_pca(pathname, factor):\n",
    "    '''\n",
    "    近义词挖掘\n",
    "    '''\n",
    "    word_num = len(word2id)\n",
    "        \n",
    "    context = np.zeros((big_num, word_num))\n",
    "\n",
    "    def cnt_context(poem):\n",
    "        for place, row in poem.iterrows():\n",
    "            word = row['word']\n",
    "            line_num = row['line_number']\n",
    "            id = word2id[word]\n",
    "            if id in id2big:\n",
    "                bigid = id2big[id]\n",
    "                for con_place, con_row in poem.iterrows():\n",
    "                    con_word = con_row['word']\n",
    "                    con_id = word2id[con_word]\n",
    "                    con_line_num = con_row['line_number']\n",
    "                    if id != con_id:\n",
    "                        context[bigid][con_id] += IDF[con_id]\n",
    "                        if line_num == con_line_num:\n",
    "                            context[bigid][con_id] += IDF[con_id] * 10\n",
    "    \n",
    "    new_data.groupby('Poem_id').apply(cnt_context)\n",
    "\n",
    "    for line in context:\n",
    "        line /= np.linalg.norm(line)\n",
    "\n",
    "    from sklearn.decomposition import PCA\n",
    "    dec_to = factor\n",
    "    dcontext = PCA(n_components = dec_to).fit_transform(context)\n",
    "        \n",
    "    synonym_list = []\n",
    "    for i in range(big_num):\n",
    "        cur_list = []\n",
    "        moon_vec = dcontext[i]\n",
    "        similarity = np.zeros(big_num)\n",
    "        for i, v in enumerate(dcontext):\n",
    "            similarity[i] = np.linalg.norm(moon_vec - v)\n",
    "\n",
    "        st = np.argsort(similarity)\n",
    "        for i in range(1,30):\n",
    "            cur_list.append(st[i])\n",
    "        synonym_list.append(cur_list)\n",
    "        \n",
    "    with open(pathname, 'wb') as f:\n",
    "        pickle.dump(synonym_list, f)"
   ]
  },
  {
   "cell_type": "code",
   "execution_count": 86,
   "metadata": {},
   "outputs": [
    {
     "name": "stdout",
     "output_type": "stream",
     "text": [
      "2\n",
      "4\n",
      "8\n",
      "16\n",
      "32\n",
      "64\n",
      "128\n",
      "256\n",
      "512\n",
      "1024\n"
     ]
    }
   ],
   "source": [
    "pca_factor_list = []\n",
    "pca_factor = 2\n",
    "for i in range(10):\n",
    "    print(pca_factor)\n",
    "    pca_factor *= 2\n",
    "    pathname = './result/pca_' + str(pca_factor)\n",
    "    synonym_digging_pca(pathname, pca_factor)\n",
    "    pca_factor_list.append(pca_factor)"
   ]
  },
  {
   "cell_type": "code",
   "execution_count": 99,
   "metadata": {},
   "outputs": [
    {
     "name": "stdout",
     "output_type": "stream",
     "text": [
      "2\n",
      "4\n",
      "8\n",
      "16\n",
      "32\n",
      "64\n",
      "128\n",
      "256\n",
      "512\n",
      "1024\n"
     ]
    }
   ],
   "source": [
    "pca_score = []\n",
    "pca_factor = 2\n",
    "for i in range(10):\n",
    "    print(pca_factor)\n",
    "    pca_factor *= 2\n",
    "    pathname = './result/pca_' + str(pca_factor)\n",
    "    pca_score.append(evaluate_synonym(pathname, 10))"
   ]
  },
  {
   "cell_type": "code",
   "execution_count": 105,
   "metadata": {},
   "outputs": [
    {
     "data": {
      "text/plain": [
       "Text(0, 0.5, 'score')"
      ]
     },
     "execution_count": 105,
     "metadata": {},
     "output_type": "execute_result"
    },
    {
     "data": {
      "image/png": "[encoded data removed]",
      "text/plain": [
       "<Figure size 432x288 with 1 Axes>"
      ]
     },
     "metadata": {
      "needs_background": "light"
     },
     "output_type": "display_data"
    }
   ],
   "source": [
    "plt.plot(pca_factor_list, pca_score)\n",
    "plt.xlabel('dimension')\n",
    "plt.ylabel('score')"
   ]
  },
  {
   "cell_type": "code",
   "execution_count": 103,
   "metadata": {},
   "outputs": [
    {
     "data": {
      "text/plain": [
       "[2568.3333333333335,\n",
       " 2400.6666666666665,\n",
       " 2550.0000000000005,\n",
       " 2463.0,\n",
       " 2660.666666666667,\n",
       " 2977.333333333332,\n",
       " 2973.333333333331,\n",
       " 2848.666666666665,\n",
       " 2939.333333333331,\n",
       " 2917.9999999999977]"
      ]
     },
     "execution_count": 103,
     "metadata": {},
     "output_type": "execute_result"
    }
   ],
   "source": [
    "pca_score"
   ]
  },
  {
   "cell_type": "code",
   "execution_count": 104,
   "metadata": {},
   "outputs": [
    {
     "data": {
      "text/plain": [
       "[4, 8, 16, 32, 64, 128, 256, 512, 1024, 2048]"
      ]
     },
     "execution_count": 104,
     "metadata": {},
     "output_type": "execute_result"
    }
   ],
   "source": [
    "pca_factor_list"
   ]
  },
  {
   "cell_type": "code",
   "execution_count": null,
   "metadata": {},
   "outputs": [],
   "source": []
  }
 ],
 "metadata": {
  "kernelspec": {
   "display_name": "Python 3",
   "language": "python",
   "name": "python3"
  },
  "language_info": {
   "codemirror_mode": {
    "name": "ipython",
    "version": 3
   },
   "file_extension": ".py",
   "mimetype": "text/x-python",
   "name": "python",
   "nbconvert_exporter": "python",
   "pygments_lexer": "ipython3",
   "version": "3.7.4"
  }
 },
 "nbformat": 4,
 "nbformat_minor": 2
}
